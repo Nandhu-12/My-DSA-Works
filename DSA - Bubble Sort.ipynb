{
 "cells": [
  {
   "cell_type": "markdown",
   "id": "edf5d502",
   "metadata": {},
   "source": [
    "# DSA - Bubble Sort"
   ]
  },
  {
   "cell_type": "code",
   "execution_count": 2,
   "id": "fdeb3b71",
   "metadata": {},
   "outputs": [
    {
     "name": "stdout",
     "output_type": "stream",
     "text": [
      "Enter Elements : 70,20,50,30,90,5,15\n",
      "[5, 15, 20, 30, 50, 70, 90]\n"
     ]
    }
   ],
   "source": [
    "# Bubble sort Implementation\n",
    "\n",
    "def Bubblesort(arr):\n",
    "    n = len(arr)\n",
    "    for i in range(n): #------> O(n)\n",
    "        for j in range(0,n-i-1): #------> O(n)\n",
    "            if arr[j] > arr[j+1]:\n",
    "               arr[j],arr[j+1] = arr[j+1],arr[j]\n",
    "\n",
    "    return arr\n",
    "\n",
    "arr = []\n",
    "arr= [int(element) for element in input(\"Enter Elements : \").split(',')]\n",
    "print(Bubblesort(arr))\n",
    "\n",
    "# Time complexity is O(n^2)\n"
   ]
  },
  {
   "cell_type": "code",
   "execution_count": null,
   "id": "2d4c25cb",
   "metadata": {},
   "outputs": [],
   "source": []
  }
 ],
 "metadata": {
  "kernelspec": {
   "display_name": "Python 3 (ipykernel)",
   "language": "python",
   "name": "python3"
  },
  "language_info": {
   "codemirror_mode": {
    "name": "ipython",
    "version": 3
   },
   "file_extension": ".py",
   "mimetype": "text/x-python",
   "name": "python",
   "nbconvert_exporter": "python",
   "pygments_lexer": "ipython3",
   "version": "3.9.12"
  }
 },
 "nbformat": 4,
 "nbformat_minor": 5
}
