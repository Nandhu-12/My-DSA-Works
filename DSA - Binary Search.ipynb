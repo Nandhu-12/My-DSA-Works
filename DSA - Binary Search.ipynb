{
 "cells": [
  {
   "cell_type": "markdown",
   "id": "cdc4f2ff",
   "metadata": {},
   "source": [
    "# DSA - Binary Search"
   ]
  },
  {
   "cell_type": "code",
   "execution_count": 1,
   "id": "e233d590",
   "metadata": {},
   "outputs": [
    {
     "name": "stdout",
     "output_type": "stream",
     "text": [
      "Enter a value : 86\n",
      "The index of search_element is :  5\n"
     ]
    }
   ],
   "source": [
    "# Binary Search Algo Implementation using Recursion\n",
    "# Time Complexity is O(log n)\n",
    "\n",
    "\n",
    "def binary(arr,i,j,x):\n",
    "    # If single element in array\n",
    "    if i == j:\n",
    "        if arr[i] == x:\n",
    "            return i\n",
    "        else:\n",
    "            return -1\n",
    "    # many elements in arrray\n",
    "    else :\n",
    "        mid = i + (j-i)//2\n",
    "        if arr[mid] == x:\n",
    "            return mid\n",
    "        elif arr[mid] < x:\n",
    "            # recursive call\n",
    "            return binary(arr,mid+1,j,x)\n",
    "        else:\n",
    "            # recursive call(Recursive functions are functions that calls itself.)\n",
    "            return binary(arr,i, mid - 1, x)\n",
    "\n",
    "\n",
    "arr = [10,23,35,67,75,86,90]\n",
    "i = 0\n",
    "j = len(arr)-1\n",
    "x = int(input(\"Enter a value : \"))\n",
    "result = binary(arr,i,j,x)\n",
    "print(\"The index of search_element is : \",result)"
   ]
  },
  {
   "cell_type": "code",
   "execution_count": 2,
   "id": "f9292f4c",
   "metadata": {},
   "outputs": [
    {
     "name": "stdout",
     "output_type": "stream",
     "text": [
      "Enter a value : 100\n",
      "The index of search_element is :  -1\n"
     ]
    }
   ],
   "source": [
    "# Binary Search Algo Implementation without Recursion and using loops(iterators)\n",
    "\n",
    "def binary_iterator(arr,i,j,x):\n",
    "    if i == j:\n",
    "        if arr[i] == x:\n",
    "            return i\n",
    "        else:\n",
    "            return -1\n",
    "\n",
    "    elif x not in arr:\n",
    "        return -1\n",
    "\n",
    "    else:\n",
    "        mid = i + (j - i) // 2\n",
    "        if arr[mid] == x:\n",
    "            return mid\n",
    "\n",
    "        elif arr[mid] < x:\n",
    "            while True:\n",
    "                mid = mid + 1\n",
    "                if arr[mid] == x:\n",
    "                    return mid\n",
    "\n",
    "        elif arr[mid] > x:\n",
    "            while True:\n",
    "                mid = mid - 1\n",
    "                if arr[mid] == x:\n",
    "                    return mid\n",
    "\n",
    "\n",
    "\n",
    "arr = [10,23,35,67,75,86,90]\n",
    "i = 0\n",
    "j = len(arr)-1\n",
    "x = int(input(\"Enter a value : \"))\n",
    "result = binary_iterator(arr,i,j,x)\n",
    "print(\"The index of search_element is : \",result)"
   ]
  },
  {
   "cell_type": "code",
   "execution_count": null,
   "id": "aeba3891",
   "metadata": {},
   "outputs": [],
   "source": []
  }
 ],
 "metadata": {
  "kernelspec": {
   "display_name": "Python 3 (ipykernel)",
   "language": "python",
   "name": "python3"
  },
  "language_info": {
   "codemirror_mode": {
    "name": "ipython",
    "version": 3
   },
   "file_extension": ".py",
   "mimetype": "text/x-python",
   "name": "python",
   "nbconvert_exporter": "python",
   "pygments_lexer": "ipython3",
   "version": "3.9.12"
  }
 },
 "nbformat": 4,
 "nbformat_minor": 5
}
