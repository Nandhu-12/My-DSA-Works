{
 "cells": [
  {
   "cell_type": "markdown",
   "id": "36636e33",
   "metadata": {},
   "source": [
    "# DSA - Interpolation Search"
   ]
  },
  {
   "cell_type": "code",
   "execution_count": null,
   "id": "5993f93f",
   "metadata": {},
   "outputs": [],
   "source": [
    "def interpo(arr,low,high,x):\n",
    "    while low <= high and x >= arr[low] and x <= arr[high]:\n",
    "        pos = int(low + (((float(high - low)/( arr[high] - arr[low])) * (x - arr[low]))))\n",
    "        if arr[pos] == x:\n",
    "            return pos\n",
    "        elif arr[pos] < x:\n",
    "            low = pos + 1\n",
    "        elif arr[pos] > x:\n",
    "            high = pos - 1\n",
    "    \n",
    "    \n",
    "arr = [5,10,20,25,30]\n",
    "x = 20\n",
    "low = 0\n",
    "high = len(arr)-1\n",
    "print(interpo(arr,low,high,x))\n",
    "\n",
    "# Tc : O(n)\n",
    "# Sc : O(1)"
   ]
  }
 ],
 "metadata": {
  "kernelspec": {
   "display_name": "Python 3 (ipykernel)",
   "language": "python",
   "name": "python3"
  },
  "language_info": {
   "codemirror_mode": {
    "name": "ipython",
    "version": 3
   },
   "file_extension": ".py",
   "mimetype": "text/x-python",
   "name": "python",
   "nbconvert_exporter": "python",
   "pygments_lexer": "ipython3",
   "version": "3.9.12"
  }
 },
 "nbformat": 4,
 "nbformat_minor": 5
}
