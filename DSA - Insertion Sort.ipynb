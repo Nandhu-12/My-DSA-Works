{
 "cells": [
  {
   "cell_type": "markdown",
   "id": "b5c287f2",
   "metadata": {},
   "source": [
    "# DSA - Insertion Sort"
   ]
  },
  {
   "cell_type": "code",
   "execution_count": null,
   "id": "2b04f9c3",
   "metadata": {},
   "outputs": [],
   "source": [
    "# Insertion Sorting Algorithm\n",
    "# Prefered when an array is already almost sorted and in that case it give time as O(n)\n",
    "\n",
    "def Insertion_sort(arr):\n",
    "    # we are intensionaly starting from 1 index as 0 index value is sorted\n",
    "    for i in range(1,len(arr)):\n",
    "        j = i-1\n",
    "        val = arr[i]\n",
    "        \n",
    "        while j>=0 and val < arr[j]:\n",
    "            arr[j+1] = arr[j]\n",
    "            j -= 1\n",
    "        arr[j+1] = val\n",
    "\n",
    "    return(arr)\n",
    "\n",
    "arr = [20,10,100,30,25,55,90,23,75,15,1,0]\n",
    "result = Insertion_sort(arr)\n",
    "print(result,end = ' ')\n",
    "\n",
    "# Worst case = O(n^2)\n",
    "# Best case = O(n)\n",
    "# Average case = O(n^2)\n"
   ]
  }
 ],
 "metadata": {
  "kernelspec": {
   "display_name": "Python 3 (ipykernel)",
   "language": "python",
   "name": "python3"
  },
  "language_info": {
   "codemirror_mode": {
    "name": "ipython",
    "version": 3
   },
   "file_extension": ".py",
   "mimetype": "text/x-python",
   "name": "python",
   "nbconvert_exporter": "python",
   "pygments_lexer": "ipython3",
   "version": "3.9.12"
  }
 },
 "nbformat": 4,
 "nbformat_minor": 5
}
