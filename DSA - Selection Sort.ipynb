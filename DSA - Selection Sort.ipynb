{
 "cells": [
  {
   "cell_type": "markdown",
   "id": "886adffb",
   "metadata": {},
   "source": [
    "# DSA - Selection Sort"
   ]
  },
  {
   "cell_type": "code",
   "execution_count": 3,
   "id": "df820a8c",
   "metadata": {},
   "outputs": [
    {
     "name": "stdout",
     "output_type": "stream",
     "text": [
      "[19, 27, 29, 38, 45, 50, 79]\n"
     ]
    }
   ],
   "source": [
    "# Seclection sort Implementation\n",
    "\n",
    "def Selsort(arr):\n",
    "    for i in range(len(arr)):\n",
    "        # store index of min element\n",
    "        min_index = i\n",
    "        for j in range(i+1,len(arr)):\n",
    "            if arr[j] < arr[min_index]:\n",
    "                # update min_index with new min element index\n",
    "                min_index = j\n",
    "        # swap\n",
    "        arr[i],arr[min_index] = arr[min_index],arr[i]\n",
    "\n",
    "    return arr\n",
    "\n",
    "arr = [50,38,45,79,19,27,29]\n",
    "#arr = [int(element) for element in input(\"Enter Elements : \").split(',')]\n",
    "print(Selsort(arr))\n",
    "\n",
    "# Time complexity is O(n^2)\n"
   ]
  },
  {
   "cell_type": "code",
   "execution_count": null,
   "id": "554710d4",
   "metadata": {},
   "outputs": [],
   "source": []
  }
 ],
 "metadata": {
  "kernelspec": {
   "display_name": "Python 3 (ipykernel)",
   "language": "python",
   "name": "python3"
  },
  "language_info": {
   "codemirror_mode": {
    "name": "ipython",
    "version": 3
   },
   "file_extension": ".py",
   "mimetype": "text/x-python",
   "name": "python",
   "nbconvert_exporter": "python",
   "pygments_lexer": "ipython3",
   "version": "3.9.12"
  }
 },
 "nbformat": 4,
 "nbformat_minor": 5
}
