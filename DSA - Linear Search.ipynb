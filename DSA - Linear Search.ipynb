{
 "cells": [
  {
   "cell_type": "markdown",
   "id": "24cf7b57",
   "metadata": {},
   "source": [
    "# DSA - Linear Search"
   ]
  },
  {
   "cell_type": "code",
   "execution_count": 1,
   "id": "a744fc59",
   "metadata": {},
   "outputs": [
    {
     "name": "stdout",
     "output_type": "stream",
     "text": [
      "Enter element : 17\n",
      "The index of search_element is :  3\n"
     ]
    }
   ],
   "source": [
    "# Linear Search Algorithm implementation\n",
    "def linearSearch(arr,search_element,n):\n",
    "    for i in range(n):\n",
    "        if arr[i] == search_element:\n",
    "            return i\n",
    "    return -1\n",
    "# returning -1 if element is not present inside arr\n",
    "\n",
    "\n",
    "\n",
    "arr = [53,12,32,17,39,90]\n",
    "search_element = int(input('Enter element : '))\n",
    "n = len(arr)\n",
    "result = linearSearch(arr,search_element,n)\n",
    "print(\"The index of search_element is : \",result)\n",
    "\n",
    "# Algorithm = Linear Search\n",
    "# Time Complexity = O(n)"
   ]
  },
  {
   "cell_type": "code",
   "execution_count": null,
   "id": "5bf656b1",
   "metadata": {},
   "outputs": [],
   "source": []
  }
 ],
 "metadata": {
  "kernelspec": {
   "display_name": "Python 3 (ipykernel)",
   "language": "python",
   "name": "python3"
  },
  "language_info": {
   "codemirror_mode": {
    "name": "ipython",
    "version": 3
   },
   "file_extension": ".py",
   "mimetype": "text/x-python",
   "name": "python",
   "nbconvert_exporter": "python",
   "pygments_lexer": "ipython3",
   "version": "3.9.12"
  }
 },
 "nbformat": 4,
 "nbformat_minor": 5
}
