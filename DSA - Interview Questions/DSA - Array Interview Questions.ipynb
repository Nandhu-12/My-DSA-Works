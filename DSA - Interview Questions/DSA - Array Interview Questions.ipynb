{
 "cells": [
  {
   "cell_type": "markdown",
   "id": "143e2b04",
   "metadata": {},
   "source": [
    "# DSA - Array Interview Questions"
   ]
  },
  {
   "cell_type": "markdown",
   "id": "b6945508",
   "metadata": {},
   "source": [
    "**Problem-1: Return the position of the 1st infinite element**"
   ]
  },
  {
   "cell_type": "code",
   "execution_count": 1,
   "id": "9150eda8",
   "metadata": {},
   "outputs": [
    {
     "name": "stdout",
     "output_type": "stream",
     "text": [
      "Position of first inf element is :  6\n"
     ]
    }
   ],
   "source": [
    "# Here array is unsorted and first we have integers and followed by only 'inf' elements\n",
    "# Find the position of 1st inf element\n",
    "\n",
    "#Binary search\n",
    "\n",
    "import math\n",
    "def binarysearch(arr,i,j,x):\n",
    "    if j == 1:\n",
    "        if j == math.inf:\n",
    "            return j\n",
    "        else:\n",
    "            return -1\n",
    "\n",
    "    else:\n",
    "        mid = i + (j-i) // 2\n",
    "        if arr[mid] != x:\n",
    "            return binarysearch(arr,mid+1,j,x)\n",
    "        elif arr[mid] == x:\n",
    "            if arr[mid-1] != x:\n",
    "                return mid\n",
    "            else:\n",
    "                return binarysearch(arr,i,mid-1,x)\n",
    "        return -1\n",
    "\n",
    "\n",
    "arr = [50,100,0,20,30,1,math.inf,math.inf,math.inf]\n",
    "i = 0\n",
    "j = len(arr)\n",
    "x = math.inf\n",
    "bs = binarysearch(arr,i,j,x)\n",
    "print('Position of first inf element is : ',bs)\n",
    "\n",
    "# Time complexity = O(log n)\n",
    "\n",
    "# We can do it in Linear search as well and there we get time complexity as O(n)"
   ]
  },
  {
   "cell_type": "markdown",
   "id": "e7939f19",
   "metadata": {},
   "source": [
    "**Problem-2 : Return boolean value if target element is present in 2d array or not**"
   ]
  },
  {
   "cell_type": "code",
   "execution_count": 2,
   "id": "9fc713c3",
   "metadata": {},
   "outputs": [
    {
     "name": "stdout",
     "output_type": "stream",
     "text": [
      "Index is :  (1, 3)\n"
     ]
    }
   ],
   "source": [
    "#Approach-1\n",
    "# Brute force approach or using loop\n",
    "\n",
    "import numpy as np\n",
    "\n",
    "def Find_element(x,search,n):\n",
    "    for i in range(0,n):            # T(n)\n",
    "        for j in range(0,n):        # T(n)\n",
    "            if x[i][j] == search:\n",
    "                return i,j\n",
    "    else:\n",
    "        return -1\n",
    "\n",
    "x = np.array([[1,2,3,4],[5,6,7,8],[9,10,11,12],[13,14,15,16]])\n",
    "search = 8\n",
    "n = len(x)\n",
    "result = Find_element(x,search,n)\n",
    "print(\"Index is : \",result)\n",
    "# Time Complexity is T(n^2)\n"
   ]
  },
  {
   "cell_type": "code",
   "execution_count": 3,
   "id": "ba3ee1de",
   "metadata": {},
   "outputs": [
    {
     "name": "stdout",
     "output_type": "stream",
     "text": [
      "Index is :  (1, 3)\n"
     ]
    }
   ],
   "source": [
    "#Approach-2\n",
    "# This is a interview problem to search an element in 2D Sorted matrix with time complexity O(n)\n",
    "def search_2dsorted_matrix(x,target):\n",
    "    i = 0\n",
    "    j = len(x[0])-1\n",
    "    n = len(x)\n",
    "\n",
    "    while (i < n and j >= 0) :\n",
    "        if x[i][j] == target:\n",
    "            return (i,j)\n",
    "        elif x[i][j] > target:\n",
    "            j -= 1\n",
    "        elif x[i][j] < target:\n",
    "            i += 1\n",
    "    else:\n",
    "        return -1\n",
    "\n",
    "x = np.array([[1,2,3,4],[5,6,7,8],[9,10,11,12],[13,14,15,16]])\n",
    "target = 8\n",
    "n = len(x)\n",
    "result = search_2dsorted_matrix(x,target)\n",
    "print(\"Index is : \",result)\n",
    "# here we run only one loop n times. So, Time complexity is O(n)"
   ]
  },
  {
   "cell_type": "markdown",
   "id": "2c326cd5",
   "metadata": {},
   "source": [
    "**Problem-3 : Maximum profit of buy and Sell stock**"
   ]
  },
  {
   "cell_type": "code",
   "execution_count": 4,
   "id": "be32a401",
   "metadata": {},
   "outputs": [
    {
     "name": "stdout",
     "output_type": "stream",
     "text": [
      "The max profit is: 20\n"
     ]
    }
   ],
   "source": [
    "def profit(prices):\n",
    "    min_profit = float('inf')\n",
    "    max_profit = 0\n",
    "    \n",
    "    for i in range(len(prices)):\n",
    "        if prices[i] < min_profit:\n",
    "            min_profit = prices[i]\n",
    "        elif prices[i] - min_profit > max_profit:\n",
    "            max_profit = prices[i] - min_profit\n",
    "    \n",
    "    return max_profit\n",
    "\n",
    "prices = [7,1,5,3,6,4,15,21]\n",
    "end_profit = profit(prices)\n",
    "print(\"The max profit is:\",end_profit)\n",
    "\n",
    "# Time Complexity = O(n)\n",
    "# Space Complexity = O(1)"
   ]
  },
  {
   "cell_type": "markdown",
   "id": "fd76c0b2",
   "metadata": {},
   "source": [
    "**Problem-4 : Find the 3 points are collinear or not**"
   ]
  },
  {
   "cell_type": "code",
   "execution_count": 5,
   "id": "299467db",
   "metadata": {},
   "outputs": [
    {
     "name": "stdout",
     "output_type": "stream",
     "text": [
      "The points are: Yes\n"
     ]
    }
   ],
   "source": [
    "#Approach-1 - Using Slope maths Concept\n",
    "'''\n",
    "If 3 points are collinear then their slopes must be equal as they lie on same line\n",
    "slope-1\n",
    "m1 = (y2-y1)/(x2-x1)\n",
    "slope-2\n",
    "m2 = (y3-y2)/(x3-x2)\n",
    "so, the equ is,\n",
    "(y2-y1)(x3-x2) == (x2-x1)(y3-y2)\n",
    "'''\n",
    "    \n",
    "def collinear_or_not(x1,x2,x3,y1,y2,y3):\n",
    "    if (y2-y1)*(x3-x2) == (x2-x1)*(y3-y2):\n",
    "        return 'Yes'\n",
    "    else:\n",
    "        return 'No'\n",
    "    \n",
    "x1,x2,x3,y1,y2,y3 = 1,1,1,6,10,9\n",
    "col = collinear_or_not(x1,x2,x3,y1,y2,y3)\n",
    "print('The points are:',col)\n",
    "\n",
    "# Time Complexity = O(1)\n",
    "# Space Complexity = O(1)"
   ]
  },
  {
   "cell_type": "code",
   "execution_count": 6,
   "id": "ae7ec398",
   "metadata": {},
   "outputs": [
    {
     "name": "stdout",
     "output_type": "stream",
     "text": [
      "The points are: Yes\n"
     ]
    }
   ],
   "source": [
    "#Approach-2 - Area of Triangle maths Concept\n",
    "'''\n",
    "Always Area of triangle = 0 for 3 Collinear points\n",
    "Area of triangle = (1/2)*((x1*(y2-y3) + x2(y3-y1) + x3(y1-y2))\n",
    "so the equ is,\n",
    "(1/2)*((x1*(y2-y3) + x2(y3-y1) + x3(y1-y2)) == 0\n",
    "'''\n",
    "    \n",
    "def collinear_or_not(x1,x2,x3,y1,y2,y3):\n",
    "    area = (1/2)*(x1*(y2-y3) + x2*(y3-y1) + x3*(y1-y2))\n",
    "    if area == 0:\n",
    "        return 'Yes'\n",
    "    else:\n",
    "        return 'No'\n",
    "\n",
    "x1,x2,x3,y1,y2,y3 = 1,1,1,6,10,9\n",
    "col = collinear_or_not(x1,x2,x3,y1,y2,y3)\n",
    "print('The points are:',col)\n",
    "\n",
    "# Time Complexity = O(1)\n",
    "# Space Complexity = O(1)"
   ]
  },
  {
   "cell_type": "markdown",
   "id": "bade4e17",
   "metadata": {},
   "source": [
    "**Problem-5 : Sort 3 colors**"
   ]
  },
  {
   "cell_type": "code",
   "execution_count": 1,
   "id": "38540cb7",
   "metadata": {},
   "outputs": [
    {
     "name": "stdout",
     "output_type": "stream",
     "text": [
      "[0, 0, 1, 1, 2, 2]\n"
     ]
    }
   ],
   "source": [
    "#Approch : 2 Pointer Approach\n",
    "\n",
    "def sort_colors(arr):\n",
    "    p0 = curr = 0\n",
    "    p2 = len(arr)-1\n",
    "    \n",
    "    while curr <= p2:\n",
    "        if arr[curr] == 0:\n",
    "            arr[curr],arr[p0] = arr[p0],arr[curr]\n",
    "            p0 += 1\n",
    "            curr += 1\n",
    "            \n",
    "        elif arr[curr] == 2:\n",
    "            arr[curr],arr[p2] = arr[p2],arr[curr]\n",
    "            p2 -= 1\n",
    "        \n",
    "        else:\n",
    "            curr += 1\n",
    "            \n",
    "    return arr\n",
    "    \n",
    "arr = [2,0,2,1,1,0]\n",
    "colors = sort_colors(arr)\n",
    "print(colors)\n",
    "\n",
    "# Time Complexity = O(n)\n",
    "# Space Complexity = O(1)"
   ]
  },
  {
   "cell_type": "markdown",
   "id": "bfcfcc9c",
   "metadata": {},
   "source": [
    "**Problem-6 : Finding High Frequency element in Array**"
   ]
  },
  {
   "cell_type": "code",
   "execution_count": 5,
   "id": "988fdcb8",
   "metadata": {},
   "outputs": [
    {
     "name": "stdout",
     "output_type": "stream",
     "text": [
      "2\n"
     ]
    }
   ],
   "source": [
    "#Approch-1 : Hash Table\n",
    "\n",
    "from collections import Counter\n",
    "\n",
    "def high_freq(arr):\n",
    "    return max(Counter(arr))\n",
    "    #return max(counts.keys(), key = counts.get)----either above row or this row any one gives same result\n",
    "\n",
    "arr = [2,2,1,1,1,2,2]\n",
    "element = high_freq(arr)\n",
    "print(element)\n",
    "\n",
    "## TC - O(n)\n",
    "## SC - O(n)"
   ]
  },
  {
   "cell_type": "code",
   "execution_count": 6,
   "id": "fb300b25",
   "metadata": {},
   "outputs": [
    {
     "name": "stdout",
     "output_type": "stream",
     "text": [
      "Majority Element in an array is 2\n"
     ]
    }
   ],
   "source": [
    "## Approach 2 - Boyer Moore Voting Algorithm\n",
    "\n",
    "## Method definition of findCandidate\n",
    "def findCandidate(nums):\n",
    "    count = 0\n",
    "    candidate = None\n",
    "    for num in nums:\n",
    "        if count == 0:\n",
    "            candidate = num\n",
    "        count += (1 if num == candidate else -1)\n",
    "    return candidate\n",
    "\n",
    "## Method definition of isMajority\n",
    "def isMajority(nums, candidate):\n",
    "    cnt = 0\n",
    "    n = len(nums)\n",
    "    for i in range(n):\n",
    "        if nums[i] == candidate:\n",
    "            cnt += 1\n",
    "    if cnt > n/2:\n",
    "        return 1\n",
    "    else:\n",
    "        return 0\n",
    "    \n",
    "    \n",
    "## Method definition of printmajorityElement\n",
    "def printmajorityElement(nums):\n",
    "    cand = findCandidate(nums)\n",
    "    if isMajority(nums, cand):\n",
    "        print(\"Majority Element in an array is\", cand)\n",
    "    else:\n",
    "        print(\"No majority element exists in an array\")\n",
    "   \n",
    "\n",
    "## Driver code\n",
    "nums = [2, 2, 1, 1, 1, 2, 2]\n",
    "#nums = [2, 2, 7, 3, 4]\n",
    "printmajorityElement(nums)\n",
    "\n",
    "## TC - O(n)\n",
    "## SC - O(1)"
   ]
  },
  {
   "cell_type": "code",
   "execution_count": null,
   "id": "0f8cee72",
   "metadata": {},
   "outputs": [],
   "source": []
  }
 ],
 "metadata": {
  "kernelspec": {
   "display_name": "Python 3 (ipykernel)",
   "language": "python",
   "name": "python3"
  },
  "language_info": {
   "codemirror_mode": {
    "name": "ipython",
    "version": 3
   },
   "file_extension": ".py",
   "mimetype": "text/x-python",
   "name": "python",
   "nbconvert_exporter": "python",
   "pygments_lexer": "ipython3",
   "version": "3.9.12"
  }
 },
 "nbformat": 4,
 "nbformat_minor": 5
}
