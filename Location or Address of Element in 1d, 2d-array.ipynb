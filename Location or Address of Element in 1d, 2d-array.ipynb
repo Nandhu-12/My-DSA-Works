{
 "cells": [
  {
   "cell_type": "markdown",
   "id": "b4042146",
   "metadata": {},
   "source": [
    "# Location/Address of Element in 1d & 2d-array"
   ]
  },
  {
   "cell_type": "markdown",
   "id": "c75d967b",
   "metadata": {},
   "source": [
    "**Location of Element in 1d-Array**"
   ]
  },
  {
   "cell_type": "code",
   "execution_count": 55,
   "id": "d45ac009",
   "metadata": {},
   "outputs": [
    {
     "name": "stdout",
     "output_type": "stream",
     "text": [
      "The element is 25 and its location is 2240052061296 and its hexadecimal representation 0x2098d81e4b0\n"
     ]
    }
   ],
   "source": [
    "import numpy as np\n",
    "arr = np.array([5,10,15,20,25,30,35,40])\n",
    "\n",
    "#here id() gives the memory address and hex(id()) gives the hexadecimal representation of the same\n",
    "print(f\"The element is {arr[4]} and its location is {id(arr[4])} and its hexadecimal representation {hex(id(arr[4]))}\")"
   ]
  },
  {
   "cell_type": "markdown",
   "id": "974c3e59",
   "metadata": {},
   "source": [
    "**Location of Element in 2d-Array**"
   ]
  },
  {
   "cell_type": "code",
   "execution_count": 56,
   "id": "9b322995",
   "metadata": {},
   "outputs": [
    {
     "name": "stdout",
     "output_type": "stream",
     "text": [
      "The element is 100 and its location is 2240052062000 and its hexadecimal representation 0x2098d81e630\n"
     ]
    }
   ],
   "source": [
    "import numpy as np\n",
    "arr = np.array([[5,10,15,20],[25,30,35,40],[1,0,10,100]])\n",
    "print(f\"The element is {arr[2][3]} and its location is {id(arr[2][3])} and its hexadecimal representation {hex(id(arr[2][3]))}\")"
   ]
  },
  {
   "cell_type": "markdown",
   "id": "c159e6b8",
   "metadata": {},
   "source": [
    "**Location of Element in 3d-Array**"
   ]
  },
  {
   "cell_type": "code",
   "execution_count": 75,
   "id": "2086cfdf",
   "metadata": {},
   "outputs": [
    {
     "name": "stdout",
     "output_type": "stream",
     "text": [
      "The element is 40 and its location is 2240052323120 and its hexadecimal representation 0x2098d85e310\n"
     ]
    }
   ],
   "source": [
    "import numpy as np\n",
    "arr = np.array([[[5,10,15,20],[25,30,35,40]]])\n",
    "print(f\"The element is {arr[0][1][3]} and its location is {id(arr[0][1][3])} and its hexadecimal representation {hex(id(arr[0][1][3]))}\")"
   ]
  },
  {
   "cell_type": "code",
   "execution_count": null,
   "id": "a158ba2d",
   "metadata": {},
   "outputs": [],
   "source": []
  }
 ],
 "metadata": {
  "kernelspec": {
   "display_name": "Python 3 (ipykernel)",
   "language": "python",
   "name": "python3"
  },
  "language_info": {
   "codemirror_mode": {
    "name": "ipython",
    "version": 3
   },
   "file_extension": ".py",
   "mimetype": "text/x-python",
   "name": "python",
   "nbconvert_exporter": "python",
   "pygments_lexer": "ipython3",
   "version": "3.9.12"
  }
 },
 "nbformat": 4,
 "nbformat_minor": 5
}
