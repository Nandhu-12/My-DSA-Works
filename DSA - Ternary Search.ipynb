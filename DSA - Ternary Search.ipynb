{
 "cells": [
  {
   "cell_type": "markdown",
   "id": "32adb73f",
   "metadata": {},
   "source": [
    "# DSA - Ternary Search"
   ]
  },
  {
   "cell_type": "code",
   "execution_count": 21,
   "id": "b1a861ae",
   "metadata": {},
   "outputs": [
    {
     "name": "stdout",
     "output_type": "stream",
     "text": [
      "Enter a value : 300\n",
      "the position of the target is : 5\n"
     ]
    }
   ],
   "source": [
    "## Implementation of ternary search\n",
    "## Recurrence Relation: T(n) = t(n/3) + c\n",
    "## function definition\n",
    "def ternarysearch(arr,i,j,target):\n",
    "    while i<=j:        \n",
    "        mid1 = i+(j-i)//3\n",
    "        mid2 = j-(j-i)//3\n",
    "        # If single element in array\n",
    "        if j == 1:\n",
    "            if arr[i] == target:\n",
    "                return i\n",
    "            else:\n",
    "                return -1\n",
    "        # many elements in arrray   \n",
    "        else:        \n",
    "            if arr[mid1] == target:\n",
    "                return mid1\n",
    "            elif arr[mid2] == target:\n",
    "                return mid2\n",
    "\n",
    "            elif target < arr[mid1]:\n",
    "                return ternarysearch(arr,i,mid1-1,target)\n",
    "            elif target > arr[mid2]:\n",
    "                return ternarysearch(arr,mid2+1,j,target)\n",
    "            else:\n",
    "                return ternarysearch(arr,mid1+1,mid2-1,target)\n",
    "    return -1\n",
    "\n",
    "\n",
    "arr = [5,10,15,20,100,300,500]\n",
    "target = int(input(\"Enter a value : \"))\n",
    "i = 0\n",
    "j = len(arr)-1\n",
    "ter = ternarysearch(arr,i,j,target)\n",
    "print(\"the position of the target is :\", ter)"
   ]
  },
  {
   "cell_type": "code",
   "execution_count": null,
   "id": "d09bad4c",
   "metadata": {},
   "outputs": [],
   "source": []
  }
 ],
 "metadata": {
  "kernelspec": {
   "display_name": "Python 3 (ipykernel)",
   "language": "python",
   "name": "python3"
  },
  "language_info": {
   "codemirror_mode": {
    "name": "ipython",
    "version": 3
   },
   "file_extension": ".py",
   "mimetype": "text/x-python",
   "name": "python",
   "nbconvert_exporter": "python",
   "pygments_lexer": "ipython3",
   "version": "3.9.12"
  }
 },
 "nbformat": 4,
 "nbformat_minor": 5
}
